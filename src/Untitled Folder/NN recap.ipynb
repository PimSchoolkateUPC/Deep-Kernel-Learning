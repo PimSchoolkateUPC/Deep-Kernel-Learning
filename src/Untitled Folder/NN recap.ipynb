{
 "cells": [
  {
   "cell_type": "code",
   "execution_count": 2,
   "id": "95b621a7",
   "metadata": {},
   "outputs": [],
   "source": [
    "import numpy as np\n",
    "import matplotlib.pyplot as plt\n",
    "\n",
    "\n",
    "%matplotlib inline\n",
    "plt.rcParams['figure.figsize'] = (5.0, 4.0) # set default size of plots\n",
    "plt.rcParams['image.interpolation'] = 'nearest'\n",
    "plt.rcParams['image.cmap'] = 'gray'\n",
    "\n",
    "%load_ext autoreload\n",
    "%autoreload 2"
   ]
  },
  {
   "cell_type": "code",
   "execution_count": 11,
   "id": "23922e8c",
   "metadata": {},
   "outputs": [
    {
     "data": {
      "text/plain": [
       "1"
      ]
     },
     "execution_count": 11,
     "metadata": {},
     "output_type": "execute_result"
    }
   ],
   "source": [
    "c = [1,2 ,3, 4, 5, 6]\n",
    "c.pop(0)"
   ]
  },
  {
   "cell_type": "code",
   "execution_count": 14,
   "id": "86f6296a",
   "metadata": {},
   "outputs": [
    {
     "data": {
      "text/plain": [
       "[3, 4, 5]"
      ]
     },
     "execution_count": 14,
     "metadata": {},
     "output_type": "execute_result"
    }
   ],
   "source": [
    "c[1:-1]"
   ]
  },
  {
   "cell_type": "code",
   "execution_count": 46,
   "id": "6e1e0080",
   "metadata": {},
   "outputs": [],
   "source": [
    "def initialize_parameters(layer_dims, seed=3):\n",
    "    \"\"\"\n",
    "    Arguments:\n",
    "    layer_dims -- python array (list) containing the dimensions of each layer in our network\n",
    "    \n",
    "    Returns:\n",
    "    parameters -- python dictionary containing your parameters \"W1\", \"b1\", ..., \"WL\", \"bL\":\n",
    "                    Wl -- weight matrix of shape (layer_dims[l], layer_dims[l-1])\n",
    "                    bl -- bias vector of shape (layer_dims[l], 1)\n",
    "    \"\"\"\n",
    "    \n",
    "    np.random.seed(seed)\n",
    "    parameters = {}\n",
    "    L = len(layer_dims)            # number of layers in the network\n",
    "\n",
    "    for l in range(1, L):\n",
    "        parameters['W' + str(l)] = np.random.randn(layer_dims[l], layer_dims[l-1]) * 0.01\n",
    "        parameters['b' + str(l)] = np.zeros((layer_dims[l],1)) * 0.01\n",
    "        \n",
    "        assert(parameters['W' + str(l)].shape == (layer_dims[l], layer_dims[l-1]))\n",
    "        assert(parameters['b' + str(l)].shape == (layer_dims[l], 1))\n",
    "\n",
    "        \n",
    "    return parameters"
   ]
  },
  {
   "cell_type": "code",
   "execution_count": 34,
   "id": "5e17bb35",
   "metadata": {},
   "outputs": [],
   "source": [
    "p = initialize_parameters(5, 3, layer_sizes=[4])"
   ]
  },
  {
   "cell_type": "code",
   "execution_count": 35,
   "id": "da267b10",
   "metadata": {},
   "outputs": [
    {
     "name": "stdout",
     "output_type": "stream",
     "text": [
      "W1 shape: (4, 5)\n",
      "b1 shape: (4, 1)\n",
      "W4 shape: (3, 4)\n",
      "b4 shape: (3, 1)\n"
     ]
    }
   ],
   "source": [
    "for k in p.keys():\n",
    "    print(f\"{k} shape: {p[k].shape}\")"
   ]
  },
  {
   "cell_type": "code",
   "execution_count": 50,
   "id": "26ffe0b5",
   "metadata": {},
   "outputs": [],
   "source": [
    "def sigmoid(Z):\n",
    "    \n",
    "    A = 1 / (1 + np.exp(-Z))\n",
    "    \n",
    "    ## return Z as the \"cache\"\n",
    "    return A, Z\n",
    "\n",
    "def relu(Z):\n",
    "    \n",
    "    A = np.maximum(0, Z)\n",
    "    \n",
    "    ## Return Z as the \"cache\"   \n",
    "    return A, Z\n",
    "    "
   ]
  },
  {
   "cell_type": "code",
   "execution_count": 77,
   "id": "317cef13",
   "metadata": {},
   "outputs": [],
   "source": [
    "def linear_forward(A, W, b):\n",
    "    \"\"\"\n",
    "    Arguments:\n",
    "    A -- activations from previous layer (or input data): (size of previous layer, number of examples)\n",
    "    W -- weights matrix: numpy array of shape (size of current layer, size of previous layer)\n",
    "    b -- bias vector, numpy array of shape (size of the current layer, 1)\n",
    "\n",
    "    Returns:\n",
    "    Z -- the input of the activation function, also called pre-activation parameter \n",
    "    cache -- a python tuple containing \"A\", \"W\" and \"b\" ; stored for computing the backward pass efficiently\n",
    "    \"\"\"\n",
    "    \n",
    "    print(W.shape)\n",
    "    print(A.shape)\n",
    "    print(b.shape)\n",
    "    \n",
    "    Z = np.dot(W, np.transpose(A)) + b\n",
    "    \n",
    "    cache = (A, W, b) ## for backward prop\n",
    "    \n",
    "    return Z, cache"
   ]
  },
  {
   "cell_type": "code",
   "execution_count": 78,
   "id": "43f5b65f",
   "metadata": {},
   "outputs": [],
   "source": [
    "def activation_forward(A_prev, W, b, activation):\n",
    "    \n",
    "    Z, linear_cache = linear_forward(A_prev, W, b)\n",
    "    \n",
    "    A, activation_cache = activation(Z)\n",
    "    \n",
    "    cache = (linear_cache, activation_cache)\n",
    "    return A, cache"
   ]
  },
  {
   "cell_type": "code",
   "execution_count": 91,
   "id": "cf59f933",
   "metadata": {},
   "outputs": [],
   "source": [
    "def L_model_forward(X, parameters, output_activation, activations: dict):\n",
    "    \n",
    "    caches = []\n",
    "    A = X\n",
    "    L = len(parameters) // 2 \n",
    "    \n",
    "    assert L == len(activations)\n",
    "    \n",
    "    for l in range(1, L):\n",
    "        A_prev = A\n",
    "        A, cache = activation_forward(A_prev, \n",
    "                                      parameters['W' + str(l)], \n",
    "                                      parameters['b' + str(l)], \n",
    "                                      activations[\"a\" + str(l)])\n",
    "        caches.append(cache)\n",
    "        \n",
    "    AL, cache = activation_forward(A, \n",
    "                                   parameters['W' + str(L)], \n",
    "                                   parameters['b' + str(L)], \n",
    "                                   output_activation)\n",
    "    caches.append(cache)\n",
    "    \n",
    "    assert(AL.shape == (1, X.shape[0]))\n",
    "    \n",
    "    return AL, caches\n",
    "    "
   ]
  },
  {
   "cell_type": "code",
   "execution_count": 129,
   "id": "c16df4f4",
   "metadata": {},
   "outputs": [],
   "source": [
    "def BinaryCrossEntropy(Y_pred, Y_true):\n",
    "    m = Y_true.shape[0]\n",
    "    return np.squeeze(- 1 / m * ( np.dot(np.log(Y_pred), Y_true) + np.dot(np.log(1-Y_pred), (1 - Y_true))))"
   ]
  },
  {
   "cell_type": "code",
   "execution_count": 131,
   "id": "3ac7dfb3",
   "metadata": {},
   "outputs": [],
   "source": [
    "def compute_cost(AL, Y, f):\n",
    "    m = Y.shape[0]\n",
    "    \n",
    "    cost = f(AL, Y)\n",
    "    \n",
    "    assert cost.shape == ()\n",
    "    return cost"
   ]
  },
  {
   "cell_type": "code",
   "execution_count": null,
   "id": "44e77c34",
   "metadata": {},
   "outputs": [],
   "source": [
    "def linear_backward(dZ, cache):\n",
    "    A_prev, W, b = cache\n",
    "    m = A_prev.shape[1]\n",
    "    \n",
    "    dW = 1 / m * np.dot(dZ, A_prev.T)\n",
    "    db = 1 / m * np.sum(dZ, axis=1, keepdims=True)"
   ]
  },
  {
   "cell_type": "code",
   "execution_count": 133,
   "id": "e476021c",
   "metadata": {},
   "outputs": [
    {
     "data": {
      "text/plain": [
       "array(0.69546216)"
      ]
     },
     "execution_count": 133,
     "metadata": {},
     "output_type": "execute_result"
    }
   ],
   "source": [
    "compute_cost(a, Y, BinaryCrossEntropy)"
   ]
  },
  {
   "cell_type": "code",
   "execution_count": 92,
   "id": "c2256f8c",
   "metadata": {},
   "outputs": [],
   "source": [
    "X = np.random.randn(1000, 50)\n",
    "Y = np.random.randn(1000, 1)"
   ]
  },
  {
   "cell_type": "code",
   "execution_count": 93,
   "id": "3ac384d3",
   "metadata": {},
   "outputs": [],
   "source": [
    "p = initialize_parameters(layer_dims = [X.shape[1], Y.shape[1]], seed=1)"
   ]
  },
  {
   "cell_type": "code",
   "execution_count": 94,
   "id": "fd1f1584",
   "metadata": {},
   "outputs": [],
   "source": [
    "activations = {'a1' : relu}"
   ]
  },
  {
   "cell_type": "code",
   "execution_count": 95,
   "id": "b841a2f6",
   "metadata": {},
   "outputs": [
    {
     "data": {
      "text/plain": [
       "{'W1': array([[ 0.01624345, -0.00611756, -0.00528172, -0.01072969,  0.00865408,\n",
       "         -0.02301539,  0.01744812, -0.00761207,  0.00319039, -0.0024937 ,\n",
       "          0.01462108, -0.02060141, -0.00322417, -0.00384054,  0.01133769,\n",
       "         -0.01099891, -0.00172428, -0.00877858,  0.00042214,  0.00582815,\n",
       "         -0.01100619,  0.01144724,  0.00901591,  0.00502494,  0.00900856,\n",
       "         -0.00683728, -0.0012289 , -0.00935769, -0.00267888,  0.00530355,\n",
       "         -0.00691661, -0.00396754, -0.00687173, -0.00845206, -0.00671246,\n",
       "         -0.00012665, -0.0111731 ,  0.00234416,  0.01659802,  0.00742044,\n",
       "         -0.00191836, -0.00887629, -0.00747158,  0.01692455,  0.00050808,\n",
       "         -0.00636996,  0.00190915,  0.02100255,  0.00120159,  0.00617203]]),\n",
       " 'b1': array([[0.]])}"
      ]
     },
     "execution_count": 95,
     "metadata": {},
     "output_type": "execute_result"
    }
   ],
   "source": [
    "p"
   ]
  },
  {
   "cell_type": "code",
   "execution_count": 97,
   "id": "758a0cfb",
   "metadata": {},
   "outputs": [
    {
     "name": "stdout",
     "output_type": "stream",
     "text": [
      "(1, 50)\n",
      "(1000, 50)\n",
      "(1, 1)\n",
      "(1, 1000)\n"
     ]
    }
   ],
   "source": [
    "a, b=L_model_forward(X, p, sigmoid, activations)"
   ]
  },
  {
   "cell_type": "code",
   "execution_count": 114,
   "id": "a88769bd",
   "metadata": {},
   "outputs": [
    {
     "data": {
      "text/plain": [
       "(1, 1000)"
      ]
     },
     "execution_count": 114,
     "metadata": {},
     "output_type": "execute_result"
    }
   ],
   "source": [
    "a.shape"
   ]
  },
  {
   "cell_type": "code",
   "execution_count": 119,
   "id": "21a0d7fc",
   "metadata": {},
   "outputs": [],
   "source": [
    "t  = np.log(a)"
   ]
  },
  {
   "cell_type": "code",
   "execution_count": 120,
   "id": "e74317dc",
   "metadata": {},
   "outputs": [
    {
     "data": {
      "text/plain": [
       "(1, 1000)"
      ]
     },
     "execution_count": 120,
     "metadata": {},
     "output_type": "execute_result"
    }
   ],
   "source": [
    "t.shape"
   ]
  },
  {
   "cell_type": "code",
   "execution_count": 122,
   "id": "4b486741",
   "metadata": {},
   "outputs": [
    {
     "data": {
      "text/plain": [
       "array([[3.81729458]])"
      ]
     },
     "execution_count": 122,
     "metadata": {},
     "output_type": "execute_result"
    }
   ],
   "source": [
    "np.dot(t, Y)"
   ]
  },
  {
   "cell_type": "code",
   "execution_count": null,
   "id": "4188cc7e",
   "metadata": {},
   "outputs": [],
   "source": []
  }
 ],
 "metadata": {
  "kernelspec": {
   "display_name": "Python 3",
   "language": "python",
   "name": "python3"
  },
  "language_info": {
   "codemirror_mode": {
    "name": "ipython",
    "version": 3
   },
   "file_extension": ".py",
   "mimetype": "text/x-python",
   "name": "python",
   "nbconvert_exporter": "python",
   "pygments_lexer": "ipython3",
   "version": "3.8.9"
  }
 },
 "nbformat": 4,
 "nbformat_minor": 5
}
