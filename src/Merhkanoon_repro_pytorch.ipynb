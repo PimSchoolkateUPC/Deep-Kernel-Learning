{
 "cells": [
  {
   "cell_type": "code",
   "execution_count": 1,
   "metadata": {},
   "outputs": [],
   "source": [
    "import torch\n",
    "from torch import nn\n",
    "from torch.utils.data import DataLoader, Dataset\n",
    "from torchvision import datasets, transforms\n",
    "from torchvision.transforms import ToTensor\n",
    "from utils.rff import *\n",
    "from typing import Optional\n",
    "\n",
    "from PIL import Image\n",
    "import numpy as np\n",
    "from sklearn.datasets import make_moons, make_blobs\n",
    "import matplotlib.pyplot as plt\n",
    "from sklearn.model_selection import train_test_split\n",
    "from sklearn.metrics import confusion_matrix\n",
    "\n",
    "import regex as re\n",
    "import seaborn as sns\n",
    "\n",
    "DATA_DIR = \"./data\""
   ]
  },
  {
   "cell_type": "code",
   "execution_count": 2,
   "metadata": {},
   "outputs": [],
   "source": [
    "# training_data = datasets.FashionMNIST(\n",
    "#     root=\"data\",\n",
    "#     train=True,\n",
    "#     download=True,\n",
    "#     transform=ToTensor()\n",
    "# )\n",
    "\n",
    "# test_data = datasets.FashionMNIST(\n",
    "#     root=\"data\",\n",
    "#     train=False,\n",
    "#     download=True,\n",
    "#     transform=ToTensor()\n",
    "# )"
   ]
  },
  {
   "cell_type": "code",
   "execution_count": 3,
   "metadata": {},
   "outputs": [],
   "source": [
    "def load_dat_file(path, sep=\",\", y_pos=-1, x_transform=None, y_transform=None):\n",
    "    \n",
    "    x_data = []\n",
    "    y_data = []\n",
    "\n",
    "    if x_transform is None:\n",
    "        def x_transform(x):\n",
    "            return x\n",
    "\n",
    "    if y_transform is None:\n",
    "        def y_transform(y):\n",
    "            return y\n",
    "\n",
    "    with open(path, \"r\") as file:\n",
    "        for line in file:\n",
    "            if \"@\" in line:\n",
    "                continue\n",
    "            line = line.replace('\\n', '')\n",
    "            elements = str2list(line, sep)\n",
    "            if y_pos is not None:\n",
    "                y_data.append(y_transform(elements.pop(y_pos)))\n",
    "            # print(elements)\n",
    "            x_data.append(x_transform(elements))\n",
    "    return x_data, y_data\n",
    "\n",
    "def str2list(string, sep=\",\"):\n",
    "    return string.split(sep)\n",
    "\n",
    "def australian_transform_x(x):\n",
    "    isnumber = re.compile(r'\\d+(?:,\\d*)?')\n",
    "    return [float(ele) if isnumber.search(ele) else ele for ele in x]\n",
    "\n",
    "def australian_transform_y(y):\n",
    "    return int(y)\n",
    "\n",
    "def balance_transform_x(x):\n",
    "    return [float(ele) for ele in x]\n",
    "\n",
    "def balance_transform_y(y):\n",
    "    if y == \" B\":\n",
    "        return 0\n",
    "    elif y == \" R\":\n",
    "        return 1\n",
    "    elif y == \" L\":\n",
    "        return 2\n",
    "\n",
    "def magic_transform_x(x):\n",
    "    return [float(ele) for ele in x]\n",
    "\n",
    "def magic_transform_y(y):\n",
    "    if y == \"g\":\n",
    "        return 0\n",
    "    elif y == \"h\":\n",
    "        return 1\n",
    "\n",
    "def monk_transform_x(x):\n",
    "    return [float(ele) for ele in x]\n",
    "\n",
    "def monk_transform_y(y):\n",
    "    return int(y)\n",
    "\n",
    "def sonar_transform_x(x):\n",
    "    return [float(ele) for ele in x]\n",
    "\n",
    "def sonar_transform_y(y):\n",
    "    if y == \" R\":\n",
    "        return 0\n",
    "    elif y == \" M\":\n",
    "        return 1\n",
    "\n",
    "def spambase_transform_x(x):\n",
    "    return [float(ele) for ele in x]\n",
    "\n",
    "def spambase_transform_y(y):\n",
    "    return int(y)\n",
    "\n",
    "def titanic_transform_x(x):\n",
    "    return [float(ele) for ele in x]\n",
    "\n",
    "def titanic_transform_y(y):\n",
    "    if y==\"-1.0\":\n",
    "        return 0\n",
    "    elif y==\"1.0\":\n",
    "        return 1\n",
    "\n",
    "def CNAE_transform_x(x):\n",
    "    return [float(ele) for ele in x]\n",
    "\n",
    "def CNAE_transform_y(y):\n",
    "    return int(y) - 1\n",
    "\n",
    "def covertype_transform_x(x):\n",
    "    return [float(ele) for ele in x]\n",
    "\n",
    "def covertype_transform_y(y):\n",
    "    return int(y)\n",
    "\n",
    "def madelon_transform_x(x):\n",
    "    return [float(ele) for ele in x[:-1]]\n",
    "\n",
    "def madelon_transform_y(y):\n",
    "    assert len(y) == 1\n",
    "    if y[0] == \"-1\":\n",
    "        return 0\n",
    "    elif y[0] == \"1\":\n",
    "        return 1"
   ]
  },
  {
   "cell_type": "code",
   "execution_count": 4,
   "metadata": {},
   "outputs": [],
   "source": [
    "def unique_in_list(l):\n",
    "    u = []\n",
    "    for item in l:\n",
    "        if item not in u:\n",
    "            u.append(item)\n",
    "    return u"
   ]
  },
  {
   "cell_type": "code",
   "execution_count": 5,
   "metadata": {},
   "outputs": [],
   "source": [
    "class BaseDataset(Dataset):\n",
    "    def __init__(self, x: list, y: list):\n",
    "        self.x = torch.Tensor(x)\n",
    "        self.y = torch.Tensor(y).long()\n",
    "                \n",
    "    def __len__(self):\n",
    "        return len(self.y)\n",
    "\n",
    "    def __getitem__(self, idx):\n",
    "        return self.x[idx], self.y[idx]\n",
    "\n",
    "class MLRepositoryDatasetGenerator():\n",
    "\n",
    "    \"\"\"FOR FUTURE IMPROVEMNT: BUILD A CLASS/FUNC THAT AUTOMATICALLY CREATES TEST/TRAIN SET ON DISK INSTEAD OF IN MEMORY TO IMPROVE EFFICIENCY.\"\"\"\n",
    "\n",
    "    def __init__(self, name: str, test_size=0.2, seed=42, verbose=True) -> None:\n",
    "        self._load_dataset(name)\n",
    "        if verbose:\n",
    "            print(f\"The explanatory data contains {len(self.x[0])} features\")\n",
    "            print(f\"There are {len(unique_in_list(self.y))} target classes\")\n",
    "\n",
    "        self._instantiate_train_test(test_size, seed)\n",
    "\n",
    "    def __call__(self, mode: str):\n",
    "        if mode == \"train\":\n",
    "            return BaseDataset(self.train_x, self.train_y)\n",
    "        elif mode == \"test\":\n",
    "            return BaseDataset(self.test_x, self.test_y)\n",
    "        else:\n",
    "            raise ValueError(f\"Either 'train' or 'test' can be passed as valid modes. Got '{mode}' instead\")\n",
    "    \n",
    "    def _instantiate_train_test(self, test_size, seed):\n",
    "        self.train_x, self.test_x, self.train_y, self.test_y = train_test_split(self.x, self.y, test_size=test_size, random_state=seed)\n",
    "        del self.x, self.y\n",
    "\n",
    "    def _load_dataset(self, name: str):\n",
    "        if name == \"australian\":\n",
    "            self.x, self.y = load_dat_file(DATA_DIR + \"/spambase/spambase.dat\", x_transform=spambase_transform_x, y_transform=spambase_transform_y)\n",
    "        elif name == \"balance\":\n",
    "            self.x, self.y = load_dat_file(DATA_DIR + \"/balance/balance.dat\", x_transform=balance_transform_x, y_transform=balance_transform_y)\n",
    "        elif name == \"magic\":\n",
    "            self.x, self.y = load_dat_file(DATA_DIR + \"/magic/magic.dat\", x_transform=magic_transform_x, y_transform=magic_transform_y)\n",
    "        elif name == \"monk-2\":\n",
    "            self.x, self.y = load_dat_file(DATA_DIR + \"/monk-2/monk-2.dat\", x_transform=monk_transform_x, y_transform=monk_transform_y)\n",
    "        elif name == \"sonar\":\n",
    "            self.x, self.y = load_dat_file(DATA_DIR + \"/sonar/sonar.dat\", x_transform=sonar_transform_x, y_transform=sonar_transform_y)\n",
    "        elif name == \"titanic\":\n",
    "            self.x, self.y = load_dat_file(DATA_DIR + \"/titanic/titanic.dat\", x_transform=titanic_transform_x, y_transform=titanic_transform_y)\n",
    "        elif name == \"spambase\":\n",
    "            self.x, self.y = load_dat_file(DATA_DIR + \"/spambase/spambase.dat\", x_transform=spambase_transform_x, y_transform=spambase_transform_y)\n",
    "        elif name == \"CNAE-9\":\n",
    "            self.x, self.y = load_dat_file(DATA_DIR + \"/CNAE-9/CNAE-9.data\", y_pos=0, x_transform=CNAE_transform_x, y_transform=CNAE_transform_y)\n",
    "        elif name == \"covertype\":\n",
    "            self.x, self.y = load_dat_file(DATA_DIR + \"/covertype/covtype.data\", x_transform=covertype_transform_x, y_transform=covertype_transform_y)\n",
    "        elif name == \"madelon\":\n",
    "            self.x, _ = load_dat_file(DATA_DIR + \"/madelon/madelon_train.data\", y_pos=None, x_transform=madelon_transform_x, sep=\" \")\n",
    "            self.y, _ = load_dat_file(DATA_DIR + \"/madelon/madelon_train.labels\", y_pos=None, x_transform=madelon_transform_y)\n",
    "        else:\n",
    "            raise ValueError(f\"The dataset {name} has not been implemented yet or does not exist\")"
   ]
  },
  {
   "cell_type": "code",
   "execution_count": 6,
   "metadata": {},
   "outputs": [],
   "source": [
    "# X, y = make_moons(n_samples=100, noise=0.1)\n",
    "\n",
    "# y = y*2 - 1 # make y be -1 or 1\n",
    "# # visualize in 2D\n",
    "# plt.figure(figsize=(5,5))\n",
    "# plt.scatter(X[:,0], X[:,1], c=y, s=20, cmap='jet')"
   ]
  },
  {
   "cell_type": "code",
   "execution_count": 7,
   "metadata": {},
   "outputs": [],
   "source": [
    "def all_exist(avalue, bvalue):\n",
    "    return all(any(i in j for j in bvalue) for i in avalue)\n",
    "\n",
    "class Mehrkanoon(nn.Module):\n",
    "    def __init__(self, input_size: int, layer_shapes: dict, sigma: list):\n",
    "        super(Mehrkanoon, self).__init__()\n",
    "\n",
    "        self.flatten = nn.Flatten()\n",
    "        \n",
    "        self.keys = list(layer_shapes.keys())\n",
    "        self.layer_shapes = layer_shapes\n",
    "        self.sigma = sigma\n",
    "        self.input_size = input_size\n",
    "        self.head = False\n",
    "    \n",
    "        if all_exist([\"h1\", \"h2\", \"s\"], self.keys):           \n",
    "            self.model = nn.Sequential(\n",
    "                nn.Linear(self.input_size, self.layer_shapes['h1']),\n",
    "                RandomFourierFeatureLayer(self.layer_shapes['h1'], self.layer_shapes['h2'], sigma=self.sigma[0]),\n",
    "                nn.Linear(self.layer_shapes['h2'], self.layer_shapes['s'])        \n",
    "            )\n",
    "        elif \"s\" in self.keys:\n",
    "            raise ValueError(f\"The layer shapes should include layer shapes for 'h1' and 'h2' but instead got shapes for {self.keys}\")\n",
    "        else:\n",
    "            raise ValueError(f\"The layer shapes should atleast include layer shapes for 'h1','h2', and 's' but instead got shapes for {self.keys}\")\n",
    "    \n",
    "    def add_head(self, freeze_body=False):\n",
    "        if self.head:\n",
    "            print(\"Head has already been added\")\n",
    "        elif all_exist([\"h1\", \"h2\", \"h3\", \"h4\", \"s\"], self.keys):\n",
    "            self.head = True\n",
    "            self.model.pop(-1)\n",
    "\n",
    "            if freeze_body:\n",
    "                for i in range(len(self.model)):\n",
    "                    for param in self.model[i].parameters():\n",
    "                        param.requires_grad = False\n",
    "\n",
    "            self.model.append(nn.Linear(self.layer_shapes['h2'], self.layer_shapes['h3']))\n",
    "            self.model.append(RandomFourierFeatureLayer(self.layer_shapes['h3'], self.layer_shapes['h4'], sigma=self.sigma[1]))\n",
    "            self.model.append(nn.Linear(self.layer_shapes['h4'], self.layer_shapes['s']))\n",
    "        else:\n",
    "            raise ValueError(f\"The layer shapes should include layer shapes for 'h1', 'h2', 'h3' and 'h4' but instead got shapes for {self.keys}\")\n",
    "\n",
    "    def forward(self, x):\n",
    "        x = self.flatten(x)\n",
    "        x = self.model(x)\n",
    "        return x"
   ]
  },
  {
   "cell_type": "code",
   "execution_count": 8,
   "metadata": {},
   "outputs": [],
   "source": [
    "def train_loop(dataloader, model, loss_fn, optimizer, verbose=True):\n",
    "    size = len(dataloader.dataset)\n",
    "    loss_history = []\n",
    "    accuracy_history = []\n",
    "    for batch, (X, y) in enumerate(dataloader):\n",
    "        # Compute prediction and loss\n",
    "        pred = model(X)\n",
    "        loss = loss_fn(pred, y)\n",
    "        \n",
    "        # Backpropagation\n",
    "        optimizer.zero_grad()\n",
    "        loss.backward()\n",
    "        optimizer.step()\n",
    "\n",
    "        if batch % 50 == 0:\n",
    "            loss, current = loss.item(), (batch + 1) * len(X)\n",
    "            correct = (pred.argmax(1) == y).type(torch.float).sum().item()\n",
    "            loss_history.append(loss)\n",
    "            accuracy_history.append(correct/len(X))\n",
    "            if verbose:\n",
    "                print(f\"loss: {loss:>7f}  [{current:>5d}/{size:>5d}]\")\n",
    "    return np.mean(np.array(loss_history)), np.mean(np.array(accuracy_history))\n",
    "    \n",
    "def test_loop(dataloader, model, loss_fn, verbose=True):\n",
    "    size = len(dataloader.dataset)\n",
    "    num_batches = len(dataloader)\n",
    "    test_loss, correct = 0, 0\n",
    "\n",
    "    with torch.no_grad():\n",
    "        for X, y in dataloader:\n",
    "            pred = model(X)\n",
    "            test_loss += loss_fn(pred, y).item()\n",
    "            correct += (pred.argmax(1) == y).type(torch.float).sum().item()\n",
    "\n",
    "    test_loss /= num_batches\n",
    "    correct /= size\n",
    "    if verbose:\n",
    "        print(f\"Test Error: \\n Accuracy: {(100*correct):>0.1f}%, Avg loss: {test_loss:>8f} \\n\")\n",
    "    return test_loss, correct\n",
    "\n"
   ]
  },
  {
   "cell_type": "code",
   "execution_count": 9,
   "metadata": {},
   "outputs": [],
   "source": [
    "class ModelTrainer():\n",
    "\n",
    "    def __init__(self, model, train_data, \n",
    "                              test_data, \n",
    "                              loss_fn, optimizer, batch_size, epochs, learning_rate, verbose=True) -> None:\n",
    "        self.model = model\n",
    "        self.train_data = train_data\n",
    "        self.test_data = test_data\n",
    "        self.loss_fn = loss_fn\n",
    "        self.optimizer = optimizer\n",
    "        self.batch_size = batch_size\n",
    "        self.epochs = epochs\n",
    "        self.current_epoch = 0\n",
    "        self.verbose = verbose\n",
    "        self._fitted = False\n",
    "\n",
    "        self.history = {'train_loss': [],\n",
    "                        'test_loss': [],\n",
    "                        'train_accuracy': [],\n",
    "                        'test_accuracy': []}\n",
    "    \n",
    "    def fit(self, epochs=None):\n",
    "        if epochs is None:\n",
    "            epochs = self.epochs\n",
    "        for t in range(epochs):\n",
    "            self.current_epoch += 1\n",
    "            if self.verbose:\n",
    "                print(f\"Epoch {self.current_epoch}\\n-------------------------------\")\n",
    "            train_loss, train_accuracy = train_loop(self.train_data, self.model, self.loss_fn, self.optimizer, verbose=self.verbose)\n",
    "            test_loss, test_accuracy = test_loop(self.test_data, self.model, self.loss_fn, verbose=self.verbose)\n",
    "            self.history['train_loss'].append(train_loss)\n",
    "            self.history['train_accuracy'].append(train_accuracy)\n",
    "            self.history['test_loss'].append(test_loss)\n",
    "            self.history['test_accuracy'].append(test_accuracy)\n",
    "        print(\"Done!\")\n",
    "        self._fitted = True\n",
    "\n",
    "    def plot(self, metric):\n",
    "        if metric == \"loss\":\n",
    "            sns.lineplot(y=self.history['train_loss'], x=range(self.current_epoch))\n",
    "            sns.lineplot(y=self.history['test_loss'], x=range(self.current_epoch))\n",
    "        if metric == \"accuracy\":\n",
    "            sns.lineplot(y=self.history['train_accuracy'], x=range(self.current_epoch))\n",
    "            sns.lineplot(y=self.history['test_accuracy'], x=range(self.current_epoch))\n",
    "\n",
    "    def __repr__(self):\n",
    "        return self.model\n",
    "\n",
    "    def evaluate(self):\n",
    "        size = len(self.test_data.dataset)\n",
    "        num_batches = len(self.test_data)\n",
    "        test_loss, correct = 0, 0\n",
    "\n",
    "        with torch.no_grad():\n",
    "            pred = self.model(self.test_data.dataset.x)\n",
    "            test_loss = self.loss_fn(pred, self.test_data.dataset.y).item()\n",
    "            correct = (pred.argmax(1) == self.test_data.dataset.y).type(torch.float).sum().item()\n",
    "\n",
    "        correct /= size\n",
    "        print(f\"Test Error: \\n Accuracy: {(100*correct):>0.1f}%, Avg loss: {test_loss:>8f} \\n\")\n",
    "        print(confusion_matrix(y_pred=pred.argmax(1), y_true=self.test_data.dataset.y))\n",
    "\n"
   ]
  },
  {
   "cell_type": "code",
   "execution_count": 10,
   "metadata": {},
   "outputs": [
    {
     "name": "stdout",
     "output_type": "stream",
     "text": [
      "The explanatory data contains 856 features\n",
      "There are 9 target classes\n"
     ]
    }
   ],
   "source": [
    "batch_size = 20\n",
    "epochs = 50\n",
    "learning_rate = 1e-3\n",
    "\n",
    "DatasetGenerator = MLRepositoryDatasetGenerator(\"CNAE-9\")\n",
    "training_data = DatasetGenerator('train')\n",
    "test_data = DatasetGenerator('test')\n",
    "\n",
    "train_dataloader = DataLoader(training_data, batch_size=batch_size)\n",
    "test_dataloader = DataLoader(test_data, batch_size=batch_size)"
   ]
  },
  {
   "cell_type": "code",
   "execution_count": 11,
   "metadata": {},
   "outputs": [],
   "source": [
    "model = Mehrkanoon(856, {'h1': 300, 'h2': 400, 'h3': 200, 'h4': 100, 's': 9}, sigma=[0.8, 0.7])\n",
    "loss_fn = nn.CrossEntropyLoss()\n",
    "optimizer = torch.optim.SGD(model.parameters(), lr=learning_rate, weight_decay=1e-3)\n",
    "m = ModelTrainer(model, train_dataloader, test_dataloader, loss_fn, optimizer, batch_size, epochs, learning_rate, verbose=False)"
   ]
  },
  {
   "cell_type": "code",
   "execution_count": 22,
   "metadata": {},
   "outputs": [
    {
     "name": "stdout",
     "output_type": "stream",
     "text": [
      "Done!\n"
     ]
    }
   ],
   "source": [
    "m.fit(1000)"
   ]
  },
  {
   "cell_type": "code",
   "execution_count": 23,
   "metadata": {},
   "outputs": [
    {
     "name": "stdout",
     "output_type": "stream",
     "text": [
      "Test Error: \n",
      " Accuracy: 94.4%, Avg loss: 0.841037 \n",
      "\n",
      "[[26  0  0  0  0  0  0  0  0]\n",
      " [ 0 20  0  0  0  1  0  0  0]\n",
      " [ 0  0 25  0  0  0  0  0  0]\n",
      " [ 0  0  0 28  0  2  0  0  1]\n",
      " [ 0  0  0  0 31  0  0  0  0]\n",
      " [ 0  0  0  0  0 20  0  0  0]\n",
      " [ 0  2  0  0  0  1 18  0  1]\n",
      " [ 0  0  0  0  0  0  0 19  0]\n",
      " [ 0  0  0  1  0  2  1  0 17]]\n"
     ]
    }
   ],
   "source": [
    "m.evaluate()"
   ]
  },
  {
   "cell_type": "code",
   "execution_count": 25,
   "metadata": {},
   "outputs": [
    {
     "data": {
      "image/png": "[encoded data removed]",
      "text/plain": [
       "<Figure size 640x480 with 1 Axes>"
      ]
     },
     "metadata": {},
     "output_type": "display_data"
    }
   ],
   "source": [
    "m.plot('accuracy')"
   ]
  },
  {
   "cell_type": "code",
   "execution_count": 26,
   "metadata": {},
   "outputs": [],
   "source": [
    "model.add_head()\n",
    "optimizer = torch.optim.SGD(model.parameters(), lr=learning_rate, weight_decay=1e-3)\n",
    "m = ModelTrainer(model, train_dataloader, test_dataloader, loss_fn, optimizer, batch_size, epochs, learning_rate, verbose=False)"
   ]
  },
  {
   "cell_type": "code",
   "execution_count": 27,
   "metadata": {},
   "outputs": [
    {
     "data": {
      "text/plain": [
       "Mehrkanoon(\n",
       "  (flatten): Flatten(start_dim=1, end_dim=-1)\n",
       "  (model): Sequential(\n",
       "    (0): Linear(in_features=856, out_features=300, bias=True)\n",
       "    (1): RandomFourierFeatureLayer()\n",
       "    (2): Linear(in_features=400, out_features=200, bias=True)\n",
       "    (3): RandomFourierFeatureLayer()\n",
       "    (4): Linear(in_features=100, out_features=9, bias=True)\n",
       "  )\n",
       ")"
      ]
     },
     "execution_count": 27,
     "metadata": {},
     "output_type": "execute_result"
    }
   ],
   "source": [
    "model"
   ]
  },
  {
   "cell_type": "code",
   "execution_count": 32,
   "metadata": {},
   "outputs": [
    {
     "name": "stdout",
     "output_type": "stream",
     "text": [
      "Done!\n"
     ]
    }
   ],
   "source": [
    "m.fit(1000)"
   ]
  },
  {
   "cell_type": "code",
   "execution_count": 33,
   "metadata": {},
   "outputs": [
    {
     "name": "stdout",
     "output_type": "stream",
     "text": [
      "Test Error: \n",
      " Accuracy: 94.4%, Avg loss: 0.916659 \n",
      "\n",
      "[[26  0  0  0  0  0  0  0  0]\n",
      " [ 0 20  0  0  0  1  0  0  0]\n",
      " [ 0  0 24  0  1  0  0  0  0]\n",
      " [ 0  0  0 28  0  1  1  0  1]\n",
      " [ 0  0  0  0 31  0  0  0  0]\n",
      " [ 0  0  0  0  0 20  0  0  0]\n",
      " [ 0  2  0  0  0  1 19  0  0]\n",
      " [ 0  0  0  0  0  0  0 19  0]\n",
      " [ 0  0  0  1  0  2  1  0 17]]\n"
     ]
    }
   ],
   "source": [
    "m.evaluate()"
   ]
  },
  {
   "cell_type": "code",
   "execution_count": 36,
   "metadata": {},
   "outputs": [
    {
     "data": {
      "image/png": "[encoded data removed]",
      "text/plain": [
       "<Figure size 640x480 with 1 Axes>"
      ]
     },
     "metadata": {},
     "output_type": "display_data"
    }
   ],
   "source": [
    "m.plot('accuracy')"
   ]
  },
  {
   "cell_type": "code",
   "execution_count": 35,
   "metadata": {},
   "outputs": [
    {
     "data": {
      "text/plain": [
       "Mehrkanoon(\n",
       "  (flatten): Flatten(start_dim=1, end_dim=-1)\n",
       "  (model): Sequential(\n",
       "    (0): Linear(in_features=856, out_features=300, bias=True)\n",
       "    (1): RandomFourierFeatureLayer()\n",
       "    (2): Linear(in_features=400, out_features=200, bias=True)\n",
       "    (3): RandomFourierFeatureLayer()\n",
       "    (4): Linear(in_features=100, out_features=9, bias=True)\n",
       "  )\n",
       ")"
      ]
     },
     "execution_count": 35,
     "metadata": {},
     "output_type": "execute_result"
    }
   ],
   "source": [
    "model"
   ]
  },
  {
   "cell_type": "code",
   "execution_count": null,
   "metadata": {},
   "outputs": [],
   "source": []
  }
 ],
 "metadata": {
  "kernelspec": {
   "display_name": "pytorch",
   "language": "python",
   "name": "python3"
  },
  "language_info": {
   "codemirror_mode": {
    "name": "ipython",
    "version": 3
   },
   "file_extension": ".py",
   "mimetype": "text/x-python",
   "name": "python",
   "nbconvert_exporter": "python",
   "pygments_lexer": "ipython3",
   "version": "3.8.9"
  },
  "orig_nbformat": 4,
  "vscode": {
   "interpreter": {
    "hash": "1d37477634065a47ffc8c6f154c95428d989ebe7437b6057a428faa88f1323bf"
   }
  }
 },
 "nbformat": 4,
 "nbformat_minor": 2
}
