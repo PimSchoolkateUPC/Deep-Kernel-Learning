{
 "cells": [
  {
   "cell_type": "code",
   "execution_count": 73,
   "metadata": {},
   "outputs": [],
   "source": [
    "import torch\n",
    "import torch.nn as nn\n",
    "import numpy as np\n",
    "import os \n",
    "import pandas as pd\n",
    "from sklearn.model_selection import train_test_split\n",
    "from torch.utils.data import DataLoader, TensorDataset\n",
    "import torch.nn.functional as F\n",
    "import matplotlib.pyplot as plt\n",
    "import matplotlib.gridspec as gridspec\n",
    "from sklearn.preprocessing import OneHotEncoder"
   ]
  },
  {
   "cell_type": "code",
   "execution_count": 3,
   "metadata": {},
   "outputs": [],
   "source": [
    "dir = os.getcwd()\n",
    "os.chdir(dir+\"/data\")"
   ]
  },
  {
   "cell_type": "code",
   "execution_count": 114,
   "metadata": {},
   "outputs": [],
   "source": [
    "def load_australian():\n",
    "    aussie = pd.read_table(\"australian.dat\", header=None, sep=\",\", skiprows=19)\n",
    "    X = torch.tensor(aussie.drop(14, axis=1).values, dtype=torch.float)  #.values is necessary to form the tensor\n",
    "    y = torch.tensor(aussie[14])\n",
    "    print(X.shape, y.shape)\n",
    "    print(X.dtype, y.dtype)\n",
    "    return X, y\n",
    "\n",
    "def load_iris():\n",
    "    iris = pd.read_table(\"iris.data\", header=None, sep=\",\")\n",
    "    X = torch.tensor(iris.iloc[:, 0:4].values, dtype=torch.float)\n",
    "    y = iris.iloc[:,4:]\n",
    "    ohe = OneHotEncoder(handle_unknown='ignore', sparse=False).fit(y)\n",
    "    y = ohe.transform(y)\n",
    "    y = torch.tensor(y)\n",
    "    return X, y\n"
   ]
  },
  {
   "cell_type": "code",
   "execution_count": 115,
   "metadata": {},
   "outputs": [],
   "source": [
    "X,y = load_iris()"
   ]
  },
  {
   "cell_type": "code",
   "execution_count": 116,
   "metadata": {},
   "outputs": [],
   "source": [
    "X_train, X_test, y_train, y_test = train_test_split(X,y, train_size=0.7, random_state=42)"
   ]
  },
  {
   "attachments": {},
   "cell_type": "markdown",
   "metadata": {},
   "source": [
    "The Data Loader is for batching and shuffling. Tensor Dataset allows us to join together X_train and y_train"
   ]
  },
  {
   "cell_type": "code",
   "execution_count": 176,
   "metadata": {},
   "outputs": [],
   "source": [
    "train_data = TensorDataset(X_train, y_train)\n",
    "test_data = TensorDataset(X_test, y_test)\n",
    "\n",
    "train_loader = DataLoader(train_data, batch_size=5, shuffle=True) #\n",
    "test_loader = DataLoader(test_data, batch_size=5, shuffle=True)"
   ]
  },
  {
   "cell_type": "code",
   "execution_count": 118,
   "metadata": {},
   "outputs": [
    {
     "name": "stdout",
     "output_type": "stream",
     "text": [
      "\n",
      "Training data batches: \n",
      "torch.Size([50, 4]) torch.Size([50, 3])\n",
      "torch.Size([50, 4]) torch.Size([50, 3])\n",
      "torch.Size([5, 4]) torch.Size([5, 3])\n",
      "\n",
      "Test data batches: \n",
      "torch.Size([45, 4]) torch.Size([45, 3])\n"
     ]
    }
   ],
   "source": [
    "print(\"\\nTraining data batches: \")\n",
    "for X, y in train_loader:\n",
    "    print(X.shape, y.shape)\n",
    "\n",
    "print(\"\\nTest data batches: \")\n",
    "for X, y in test_loader:\n",
    "    print(X.shape, y.shape)\n"
   ]
  },
  {
   "cell_type": "code",
   "execution_count": 192,
   "metadata": {},
   "outputs": [],
   "source": [
    "class Mehrkanoon(nn.Module):\n",
    "    def __init__(self, input_size, hidden1_size, num_classes):\n",
    "        super(Mehrkanoon, self).__init__()\n",
    "        self.fc1 = nn.Linear(input_size, hidden1_size)\n",
    "        print(self.fc1.weight.dtype)\n",
    "        self.relu1 = nn.ReLU()\n",
    "        self.fc2 = nn.Linear(hidden1_size, num_classes)\n",
    "        #self.softmax = nn.Softmax(dim=1)\n",
    "        \n",
    "\n",
    "    def forward(self,x):\n",
    "        out = self.fc1(x)\n",
    "        #print(out.shape)\n",
    "        out = self.relu1(out)\n",
    "        #print(out.shape)\n",
    "        out = self.fc2(out)\n",
    "        #print(\"Before softmax\", out)\n",
    "        #out = self.softmax(out)\n",
    "        #print(\"After softmax\", out)\n",
    "\n",
    "        return out\n",
    "\n",
    "\n",
    "class MehrkanoonLoss(nn.Module):\n",
    "    def __init__(self):\n",
    "        super(MehrkanoonLoss, self).__init__()\n",
    "\n",
    "    def forward(self, model, outputs, targets, gamma):\n",
    "        loss = nn.CrossEntropyLoss()\n",
    "\n",
    "        reg = 0\n",
    "        # we loop through the weight matrices\n",
    "        for name, W in model.named_parameters():\n",
    "            if \"weight\" in name:\n",
    "                m = W.detach().numpy()\n",
    "                \n",
    "                mm = np.matmul(m, np.transpose(m))\n",
    "                reg += np.trace(mm)\n",
    "        \n",
    "            loss_val = loss(outputs, targets)\n",
    "        \n",
    "        return reg*gamma/2 + loss_val\n",
    "\n"
   ]
  },
  {
   "cell_type": "code",
   "execution_count": 188,
   "metadata": {},
   "outputs": [
    {
     "name": "stdout",
     "output_type": "stream",
     "text": [
      "torch.float32\n",
      "Mehrkanoon(\n",
      "  (fc1): Linear(in_features=4, out_features=10, bias=True)\n",
      "  (relu1): ReLU()\n",
      "  (fc2): Linear(in_features=10, out_features=3, bias=True)\n",
      ")\n"
     ]
    }
   ],
   "source": [
    "model = Mehrkanoon(4,8,3)\n",
    "print(model)"
   ]
  },
  {
   "cell_type": "code",
   "execution_count": 112,
   "metadata": {},
   "outputs": [
    {
     "name": "stdout",
     "output_type": "stream",
     "text": [
      "fc1.weight (100, 4)\n",
      "fc2.weight (3, 100)\n"
     ]
    }
   ],
   "source": [
    "for name, W in model.named_parameters():\n",
    "    if \"weight\" in name:\n",
    "        print(name, W.detach().numpy().shape)"
   ]
  },
  {
   "attachments": {},
   "cell_type": "markdown",
   "metadata": {},
   "source": [
    "We define the cost function according to Mehrkanoon"
   ]
  },
  {
   "cell_type": "code",
   "execution_count": 37,
   "metadata": {},
   "outputs": [],
   "source": [
    "def cost(model, gamma, preds, y):\n",
    "    reg = 0\n",
    "    loss = nn.CrossEntropyLoss()\n",
    "\n",
    "    # we loop through the weight matrices\n",
    "    for name, W in model.named_parameters():\n",
    "        m = W.detach().numpy()\n",
    "        mm = np.matmul(m, np.transpose(m))\n",
    "        reg += np.trace(mm)\n",
    "\n",
    "    loss_val = loss(preds, y)\n",
    "        \n",
    "    return reg*gamma/2 + loss_val"
   ]
  },
  {
   "cell_type": "code",
   "execution_count": 17,
   "metadata": {},
   "outputs": [],
   "source": [
    "# this is to convert a tensor to a numpy object\n",
    "m1 = model.fc1.weight.detach().numpy()\n",
    "m2 = model.fc2.weight.detach().numpy()"
   ]
  },
  {
   "cell_type": "code",
   "execution_count": 199,
   "metadata": {},
   "outputs": [],
   "source": [
    "num_epochs = 200\n",
    "train_accuracies, test_accuracies = [], []\n",
    "train_loss, test_loss = [], []\n",
    "\n",
    "\n",
    "loss_function = MehrkanoonLoss()\n",
    "optimizer = torch.optim.Adam(params = model.parameters(), lr= 0.001)\n",
    "gamma = 1e-3\n",
    "\n",
    "for epoch in range(num_epochs):\n",
    "    epoch_loss = []\n",
    "    epoch_acc = []\n",
    "\n",
    "    for X, y in train_loader:\n",
    "        preds = model(X) #forward pass\n",
    "        pred_labels = torch.softmax(preds, dim=1)\n",
    "        loss = loss_function(model, pred_labels, y, gamma)\n",
    "        optimizer.zero_grad() # set gradients to zero\n",
    "        loss.backward() # compute gradients\n",
    "        optimizer.step() #parameter update\n",
    "\n",
    "        acc = (torch.argmax(pred_labels,1)==torch.argmax(y,1)).float().mean().item()\n",
    "        epoch_acc.append(acc)\n",
    "        epoch_loss.append(float(loss))\n",
    "        # train_accuracies.append(100*torch.mean((torch.argmax(pred_labels,1)==torch.argmax(y,1)).float()).item())\n",
    "\n",
    "    #print('Epoch %d, Loss %f' % (epoch, float(loss)))\n",
    "\n",
    "    train_loss.append(np.mean(epoch_loss))\n",
    "    train_accuracies.append(np.mean(epoch_acc))\n",
    "\n",
    "    X,y =next(iter(test_loader))\n",
    "    pred_labels = torch.softmax(model(X), axis=1)\n",
    "    loss = loss_function(model, pred_labels, y, gamma)\n",
    "    test_accuracies.append(\n",
    "        100* torch.mean((torch.argmax(pred_labels,1)==torch.argmax(y,1)).float()).item()\n",
    "    )\n",
    "    test_loss.append(float(loss))"
   ]
  },
  {
   "cell_type": "code",
   "execution_count": null,
   "metadata": {},
   "outputs": [],
   "source": []
  },
  {
   "cell_type": "code",
   "execution_count": 201,
   "metadata": {},
   "outputs": [
    {
     "data": {
      "image/png": "[encoded data removed]",
      "text/plain": [
       "<Figure size 432x288 with 2 Axes>"
      ]
     },
     "metadata": {
      "needs_background": "light"
     },
     "output_type": "display_data"
    }
   ],
   "source": [
    "fig = plt.figure(tight_layout=True)\n",
    "gs = gridspec.GridSpec(nrows=2, ncols=1)\n",
    "\n",
    "ax = fig.add_subplot(gs[0, 0])\n",
    "ax.plot(train_accuracies)\n",
    "ax.set_xlabel(\"Epoch\")\n",
    "ax.set_ylabel(\"Training accuracy\")\n",
    "\n",
    "ax = fig.add_subplot(gs[1, 0])\n",
    "ax.plot(test_accuracies)\n",
    "ax.set_xlabel(\"Epoch\")\n",
    "ax.set_ylabel(\"Test accuracy\")\n",
    "\n",
    "fig.align_labels()\n",
    "plt.show()"
   ]
  },
  {
   "cell_type": "code",
   "execution_count": 202,
   "metadata": {},
   "outputs": [
    {
     "data": {
      "image/png": "[encoded data removed]",
      "text/plain": [
       "<Figure size 432x288 with 2 Axes>"
      ]
     },
     "metadata": {
      "needs_background": "light"
     },
     "output_type": "display_data"
    }
   ],
   "source": [
    "fig = plt.figure(tight_layout=True)\n",
    "gs = gridspec.GridSpec(nrows=2, ncols=1)\n",
    "\n",
    "ax = fig.add_subplot(gs[0, 0])\n",
    "ax.plot(train_loss)\n",
    "ax.set_xlabel(\"Epoch\")\n",
    "ax.set_ylabel(\"Training Loss\")\n",
    "\n",
    "ax = fig.add_subplot(gs[1, 0])\n",
    "ax.plot(test_loss)\n",
    "ax.set_xlabel(\"Epoch\")\n",
    "ax.set_ylabel(\"Test Loss\")\n",
    "\n",
    "fig.align_labels()\n",
    "plt.show()"
   ]
  },
  {
   "cell_type": "code",
   "execution_count": 183,
   "metadata": {},
   "outputs": [
    {
     "data": {
      "text/plain": [
       "tensor([[9.9757e-01, 2.4335e-03, 2.3304e-09],\n",
       "        [9.7805e-01, 2.1949e-02, 3.0223e-07],\n",
       "        [9.3659e-05, 2.2823e-01, 7.7168e-01],\n",
       "        [9.8938e-01, 1.0624e-02, 1.2454e-07],\n",
       "        [4.6272e-03, 8.3895e-01, 1.5643e-01]], grad_fn=<SoftmaxBackward0>)"
      ]
     },
     "execution_count": 183,
     "metadata": {},
     "output_type": "execute_result"
    }
   ],
   "source": [
    "pred_labels"
   ]
  }
 ],
 "metadata": {
  "kernelspec": {
   "display_name": "base",
   "language": "python",
   "name": "python3"
  },
  "language_info": {
   "codemirror_mode": {
    "name": "ipython",
    "version": 3
   },
   "file_extension": ".py",
   "mimetype": "text/x-python",
   "name": "python",
   "nbconvert_exporter": "python",
   "pygments_lexer": "ipython3",
   "version": "3.9.7"
  },
  "orig_nbformat": 4,
  "vscode": {
   "interpreter": {
    "hash": "6bcd08b9d07a1bbf1ca3d2e85cf520478653b674492b433d59be3f14d722c959"
   }
  }
 },
 "nbformat": 4,
 "nbformat_minor": 2
}
