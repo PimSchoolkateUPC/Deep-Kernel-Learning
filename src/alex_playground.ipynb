{
 "cells": [
  {
   "cell_type": "code",
   "execution_count": 12,
   "metadata": {},
   "outputs": [
    {
     "name": "stdout",
     "output_type": "stream",
     "text": [
      "iteration 1\n",
      "iteration 2\n",
      "iteration 3\n",
      "iteration 5\n",
      "iteration 6\n",
      "iteration 7\n",
      "iteration 8\n",
      "iteration 9\n",
      "iteration 10\n",
      "10\n"
     ]
    }
   ],
   "source": [
    "i = 0\n",
    "for _ in range(10):\n",
    "    i += 1\n",
    "    if i == 4:\n",
    "        a = 10\n",
    "    elif True:\n",
    "        print(f'iteration {i}')\n",
    "print(i)"
   ]
  },
  {
   "cell_type": "code",
   "execution_count": 33,
   "metadata": {},
   "outputs": [
    {
     "data": {
      "text/plain": [
       "5"
      ]
     },
     "execution_count": 33,
     "metadata": {},
     "output_type": "execute_result"
    }
   ],
   "source": [
    "class ob():\n",
    "    def __init__(self, x, y, verbose: int):\n",
    "        self.x = x\n",
    "        self.y = y\n",
    "        self.l = len(x)\n",
    "        if verbose == 1:\n",
    "            print(\"Alex is a nice guy\")\n",
    "        else:\n",
    "            pass\n",
    "\n",
    "    def len(self):\n",
    "        return len(self.x)\n",
    "\n",
    "    def __len__(self):\n",
    "        return self.l\n",
    "\n",
    "    def __getitem__(self, i):\n",
    "        return (self.x[i], self.y[i])\n",
    "\n",
    "    def __call__(self):\n",
    "        return self.x, self.y   \n",
    "\n",
    "    def __repr__(self):\n",
    "        return \"Ob class with x and y\" \n",
    "\n",
    "    def __add__(self, ty):\n",
    "        return ty\n",
    "\n",
    "a = ob([1,2,3,4,5,6,7,8], [1,0,1,0,0,1,0,1])\n",
    "\n",
    "len(a)\n",
    "\n",
    "a[1]\n",
    "\n",
    "a + 5\n",
    "\n",
    "\n"
   ]
  },
  {
   "cell_type": "code",
   "execution_count": 30,
   "metadata": {},
   "outputs": [
    {
     "ename": "TypeError",
     "evalue": "len() takes exactly one argument (0 given)",
     "output_type": "error",
     "traceback": [
      "\u001b[1;31m---------------------------------------------------------------------------\u001b[0m",
      "\u001b[1;31mTypeError\u001b[0m                                 Traceback (most recent call last)",
      "\u001b[1;32m<ipython-input-30-adf3103c7c3e>\u001b[0m in \u001b[0;36m<module>\u001b[1;34m\u001b[0m\n\u001b[1;32m----> 1\u001b[1;33m \u001b[0mlen\u001b[0m\u001b[1;33m(\u001b[0m\u001b[1;33m)\u001b[0m\u001b[1;33m\u001b[0m\u001b[1;33m\u001b[0m\u001b[0m\n\u001b[0m",
      "\u001b[1;31mTypeError\u001b[0m: len() takes exactly one argument (0 given)"
     ]
    }
   ],
   "source": [
    "len()"
   ]
  },
  {
   "cell_type": "code",
   "execution_count": null,
   "metadata": {},
   "outputs": [],
   "source": []
  }
 ],
 "metadata": {
  "kernelspec": {
   "display_name": "Python 3",
   "language": "python",
   "name": "python3"
  },
  "language_info": {
   "codemirror_mode": {
    "name": "ipython",
    "version": 3
   },
   "file_extension": ".py",
   "mimetype": "text/x-python",
   "name": "python",
   "nbconvert_exporter": "python",
   "pygments_lexer": "ipython3",
   "version": "3.8.9"
  },
  "orig_nbformat": 4,
  "vscode": {
   "interpreter": {
    "hash": "56fab21abc726fd577125cf91d91a2f1229829a034e6cc30b49fd28490a8b724"
   }
  }
 },
 "nbformat": 4,
 "nbformat_minor": 2
}
